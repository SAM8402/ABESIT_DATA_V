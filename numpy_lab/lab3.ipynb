{
 "cells": [
  {
   "cell_type": "code",
   "execution_count": 2,
   "metadata": {},
   "outputs": [
    {
     "name": "stdout",
     "output_type": "stream",
     "text": [
      "Total Revenue [ 950 1300 1500 1150]\n"
     ]
    }
   ],
   "source": [
    "import numpy as np\n",
    "\n",
    "category1_revenue = np.array([500,600,700,550])\n",
    "category2_revenue = np.array([450,700,800,600])\n",
    "\n",
    "print(\"Total Revenue\", category1_revenue+category2_revenue)"
   ]
  },
  {
   "cell_type": "code",
   "execution_count": 3,
   "metadata": {},
   "outputs": [
    {
     "name": "stdout",
     "output_type": "stream",
     "text": [
      "Profit [6000 7000 6500 5700]\n"
     ]
    }
   ],
   "source": [
    "revenue = np.array([10000,12000,11000,10500])\n",
    "expenses = np.array([4000,5000,4500,4800])\n",
    "\n",
    "print(\"Profit\", revenue-expenses)"
   ]
  },
  {
   "cell_type": "code",
   "execution_count": 4,
   "metadata": {},
   "outputs": [
    {
     "name": "stdout",
     "output_type": "stream",
     "text": [
      "Out of Stock Products: [0, 0, 0]\n"
     ]
    }
   ],
   "source": [
    "inventory = np.array([10,0,5,0,20,0])\n",
    "out_of_stock = [i for i in inventory if i == 0]\n",
    "print(\"Out of Stock Products:\", out_of_stock)"
   ]
  },
  {
   "cell_type": "code",
   "execution_count": 5,
   "metadata": {},
   "outputs": [
    {
     "name": "stdout",
     "output_type": "stream",
     "text": [
      "Total Cost:  [20. 15. 32. 12.]\n"
     ]
    }
   ],
   "source": [
    "quantity = np.array([2,3,4,1])\n",
    "price_per_item = np.array([10.0,5.0,8.0,12.0])\n",
    "\n",
    "print(\"Total Cost: \", quantity*price_per_item)"
   ]
  }
 ],
 "metadata": {
  "kernelspec": {
   "display_name": "Python 3",
   "language": "python",
   "name": "python3"
  },
  "language_info": {
   "codemirror_mode": {
    "name": "ipython",
    "version": 3
   },
   "file_extension": ".py",
   "mimetype": "text/x-python",
   "name": "python",
   "nbconvert_exporter": "python",
   "pygments_lexer": "ipython3",
   "version": "3.12.3"
  }
 },
 "nbformat": 4,
 "nbformat_minor": 2
}
